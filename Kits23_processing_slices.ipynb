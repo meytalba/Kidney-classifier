{
  "nbformat": 4,
  "nbformat_minor": 0,
  "metadata": {
    "colab": {
      "provenance": [],
      "gpuType": "T4"
    },
    "kernelspec": {
      "name": "python3",
      "display_name": "Python 3"
    },
    "language_info": {
      "name": "python"
    },
    "accelerator": "GPU"
  },
  "cells": [
    {
      "cell_type": "markdown",
      "source": [
        "#Cell 1: Cloning and Installing kits23 Package"
      ],
      "metadata": {
        "id": "BY7OY7SfgRxE"
      }
    },
    {
      "cell_type": "code",
      "source": [
        "!git clone https://github.com/neheller/kits23\n",
        "!cd kits23 && pip install -e .\n"
      ],
      "metadata": {
        "colab": {
          "base_uri": "https://localhost:8080/"
        },
        "id": "0n4eS3GugZ8J",
        "outputId": "21add2c5-4610-45a4-cb50-697e405b66ef"
      },
      "execution_count": null,
      "outputs": [
        {
          "output_type": "stream",
          "name": "stdout",
          "text": [
            "Cloning into 'kits23'...\n",
            "remote: Enumerating objects: 15609, done.\u001b[K\n",
            "remote: Counting objects: 100% (83/83), done.\u001b[K\n",
            "remote: Compressing objects: 100% (50/50), done.\u001b[K\n",
            "remote: Total 15609 (delta 39), reused 61 (delta 30), pack-reused 15526 (from 1)\u001b[K\n",
            "Receiving objects: 100% (15609/15609), 493.94 MiB | 24.38 MiB/s, done.\n",
            "Resolving deltas: 100% (14008/14008), done.\n",
            "Updating files: 100% (5720/5720), done.\n",
            "Obtaining file:///content/kits23\n",
            "  Preparing metadata (setup.py) ... \u001b[?25l\u001b[?25hdone\n",
            "Collecting surface-distance@ git+https://github.com/deepmind/surface-distance.git (from kits23==0.1.4)\n",
            "  Cloning https://github.com/deepmind/surface-distance.git to /tmp/pip-install-hip_iu7g/surface-distance_bc918e2e32dc4e23a0feb7d9738fde45\n",
            "  Running command git clone --filter=blob:none --quiet https://github.com/deepmind/surface-distance.git /tmp/pip-install-hip_iu7g/surface-distance_bc918e2e32dc4e23a0feb7d9738fde45\n",
            "  Resolved https://github.com/deepmind/surface-distance.git to commit 1f805cea446805e559badc80dd27f34175e4173d\n",
            "  Preparing metadata (setup.py) ... \u001b[?25l\u001b[?25hdone\n",
            "Requirement already satisfied: numpy in /usr/local/lib/python3.11/dist-packages (from kits23==0.1.4) (2.0.2)\n",
            "Requirement already satisfied: scipy in /usr/local/lib/python3.11/dist-packages (from kits23==0.1.4) (1.15.3)\n",
            "Requirement already satisfied: scikit-image in /usr/local/lib/python3.11/dist-packages (from kits23==0.1.4) (0.25.2)\n",
            "Requirement already satisfied: opencv-python in /usr/local/lib/python3.11/dist-packages (from kits23==0.1.4) (4.11.0.86)\n",
            "Requirement already satisfied: nibabel in /usr/local/lib/python3.11/dist-packages (from kits23==0.1.4) (5.3.2)\n",
            "Requirement already satisfied: requests in /usr/local/lib/python3.11/dist-packages (from kits23==0.1.4) (2.32.3)\n",
            "Collecting argparse (from kits23==0.1.4)\n",
            "  Downloading argparse-1.4.0-py2.py3-none-any.whl.metadata (2.8 kB)\n",
            "Requirement already satisfied: tqdm in /usr/local/lib/python3.11/dist-packages (from kits23==0.1.4) (4.67.1)\n",
            "Requirement already satisfied: pytest in /usr/local/lib/python3.11/dist-packages (from kits23==0.1.4) (8.3.5)\n",
            "Collecting SimpleITK (from kits23==0.1.4)\n",
            "  Downloading simpleitk-2.5.0-cp311-abi3-manylinux_2_17_x86_64.manylinux2014_x86_64.whl.metadata (7.2 kB)\n",
            "Collecting batchgenerators (from kits23==0.1.4)\n",
            "  Downloading batchgenerators-0.25.1.tar.gz (76 kB)\n",
            "\u001b[2K     \u001b[90m━━━━━━━━━━━━━━━━━━━━━━━━━━━━━━━━━━━━━━━━\u001b[0m \u001b[32m77.0/77.0 kB\u001b[0m \u001b[31m3.0 MB/s\u001b[0m eta \u001b[36m0:00:00\u001b[0m\n",
            "\u001b[?25h  Preparing metadata (setup.py) ... \u001b[?25l\u001b[?25hdone\n",
            "Requirement already satisfied: pillow>=7.1.2 in /usr/local/lib/python3.11/dist-packages (from batchgenerators->kits23==0.1.4) (11.2.1)\n",
            "Requirement already satisfied: scikit-learn in /usr/local/lib/python3.11/dist-packages (from batchgenerators->kits23==0.1.4) (1.6.1)\n",
            "Requirement already satisfied: future in /usr/local/lib/python3.11/dist-packages (from batchgenerators->kits23==0.1.4) (1.0.0)\n",
            "Requirement already satisfied: pandas in /usr/local/lib/python3.11/dist-packages (from batchgenerators->kits23==0.1.4) (2.2.2)\n",
            "Collecting unittest2 (from batchgenerators->kits23==0.1.4)\n",
            "  Downloading unittest2-1.1.0-py2.py3-none-any.whl.metadata (15 kB)\n",
            "Requirement already satisfied: threadpoolctl in /usr/local/lib/python3.11/dist-packages (from batchgenerators->kits23==0.1.4) (3.6.0)\n",
            "Requirement already satisfied: importlib-resources>=5.12 in /usr/local/lib/python3.11/dist-packages (from nibabel->kits23==0.1.4) (6.5.2)\n",
            "Requirement already satisfied: packaging>=20 in /usr/local/lib/python3.11/dist-packages (from nibabel->kits23==0.1.4) (24.2)\n",
            "Requirement already satisfied: typing-extensions>=4.6 in /usr/local/lib/python3.11/dist-packages (from nibabel->kits23==0.1.4) (4.13.2)\n",
            "Requirement already satisfied: iniconfig in /usr/local/lib/python3.11/dist-packages (from pytest->kits23==0.1.4) (2.1.0)\n",
            "Requirement already satisfied: pluggy<2,>=1.5 in /usr/local/lib/python3.11/dist-packages (from pytest->kits23==0.1.4) (1.6.0)\n",
            "Requirement already satisfied: charset-normalizer<4,>=2 in /usr/local/lib/python3.11/dist-packages (from requests->kits23==0.1.4) (3.4.2)\n",
            "Requirement already satisfied: idna<4,>=2.5 in /usr/local/lib/python3.11/dist-packages (from requests->kits23==0.1.4) (3.10)\n",
            "Requirement already satisfied: urllib3<3,>=1.21.1 in /usr/local/lib/python3.11/dist-packages (from requests->kits23==0.1.4) (2.4.0)\n",
            "Requirement already satisfied: certifi>=2017.4.17 in /usr/local/lib/python3.11/dist-packages (from requests->kits23==0.1.4) (2025.4.26)\n",
            "Requirement already satisfied: networkx>=3.0 in /usr/local/lib/python3.11/dist-packages (from scikit-image->kits23==0.1.4) (3.5)\n",
            "Requirement already satisfied: imageio!=2.35.0,>=2.33 in /usr/local/lib/python3.11/dist-packages (from scikit-image->kits23==0.1.4) (2.37.0)\n",
            "Requirement already satisfied: tifffile>=2022.8.12 in /usr/local/lib/python3.11/dist-packages (from scikit-image->kits23==0.1.4) (2025.5.26)\n",
            "Requirement already satisfied: lazy-loader>=0.4 in /usr/local/lib/python3.11/dist-packages (from scikit-image->kits23==0.1.4) (0.4)\n",
            "Requirement already satisfied: absl-py in /usr/local/lib/python3.11/dist-packages (from surface-distance@ git+https://github.com/deepmind/surface-distance.git->kits23==0.1.4) (1.4.0)\n",
            "Requirement already satisfied: python-dateutil>=2.8.2 in /usr/local/lib/python3.11/dist-packages (from pandas->batchgenerators->kits23==0.1.4) (2.9.0.post0)\n",
            "Requirement already satisfied: pytz>=2020.1 in /usr/local/lib/python3.11/dist-packages (from pandas->batchgenerators->kits23==0.1.4) (2025.2)\n",
            "Requirement already satisfied: tzdata>=2022.7 in /usr/local/lib/python3.11/dist-packages (from pandas->batchgenerators->kits23==0.1.4) (2025.2)\n",
            "Requirement already satisfied: joblib>=1.2.0 in /usr/local/lib/python3.11/dist-packages (from scikit-learn->batchgenerators->kits23==0.1.4) (1.5.1)\n",
            "Requirement already satisfied: six>=1.4 in /usr/local/lib/python3.11/dist-packages (from unittest2->batchgenerators->kits23==0.1.4) (1.17.0)\n",
            "Collecting traceback2 (from unittest2->batchgenerators->kits23==0.1.4)\n",
            "  Downloading traceback2-1.4.0-py2.py3-none-any.whl.metadata (1.5 kB)\n",
            "Collecting linecache2 (from traceback2->unittest2->batchgenerators->kits23==0.1.4)\n",
            "  Downloading linecache2-1.0.0-py2.py3-none-any.whl.metadata (1000 bytes)\n",
            "Downloading argparse-1.4.0-py2.py3-none-any.whl (23 kB)\n",
            "Downloading simpleitk-2.5.0-cp311-abi3-manylinux_2_17_x86_64.manylinux2014_x86_64.whl (52.6 MB)\n",
            "\u001b[2K   \u001b[90m━━━━━━━━━━━━━━━━━━━━━━━━━━━━━━━━━━━━━━━━\u001b[0m \u001b[32m52.6/52.6 MB\u001b[0m \u001b[31m13.8 MB/s\u001b[0m eta \u001b[36m0:00:00\u001b[0m\n",
            "\u001b[?25hDownloading unittest2-1.1.0-py2.py3-none-any.whl (96 kB)\n",
            "\u001b[2K   \u001b[90m━━━━━━━━━━━━━━━━━━━━━━━━━━━━━━━━━━━━━━━━\u001b[0m \u001b[32m96.4/96.4 kB\u001b[0m \u001b[31m10.6 MB/s\u001b[0m eta \u001b[36m0:00:00\u001b[0m\n",
            "\u001b[?25hDownloading traceback2-1.4.0-py2.py3-none-any.whl (16 kB)\n",
            "Downloading linecache2-1.0.0-py2.py3-none-any.whl (12 kB)\n",
            "Building wheels for collected packages: batchgenerators, surface-distance\n",
            "  Building wheel for batchgenerators (setup.py) ... \u001b[?25l\u001b[?25hdone\n",
            "  Created wheel for batchgenerators: filename=batchgenerators-0.25.1-py3-none-any.whl size=93088 sha256=bc78a19330baa1265906019ce181f61126d66c6678005bb74e8812c00553e6a3\n",
            "  Stored in directory: /root/.cache/pip/wheels/56/11/c7/fadca30e054c602093ffe36ba8a2f0a87dd2f86ac75191d3ed\n",
            "  Building wheel for surface-distance (setup.py) ... \u001b[?25l\u001b[?25hdone\n",
            "  Created wheel for surface-distance: filename=surface_distance-0.1-py3-none-any.whl size=14711 sha256=d2927f176873fa2b17e0e59a04aee5d21400b1c14039175c51cc39993586df6c\n",
            "  Stored in directory: /tmp/pip-ephem-wheel-cache-affj3fsa/wheels/3f/11/27/f4a90ee48908556b580bb7af21a0d8d46b4c2279f0e75463f9\n",
            "Successfully built batchgenerators surface-distance\n",
            "Installing collected packages: SimpleITK, linecache2, argparse, traceback2, unittest2, surface-distance, batchgenerators, kits23\n",
            "  Running setup.py develop for kits23\n",
            "Successfully installed SimpleITK-2.5.0 argparse-1.4.0 batchgenerators-0.25.1 kits23-0.1.4 linecache2-1.0.0 surface-distance-0.1 traceback2-1.4.0 unittest2-1.1.0\n"
          ]
        }
      ]
    },
    {
      "cell_type": "markdown",
      "source": [
        "#Cell 2: Downloading the Dataset"
      ],
      "metadata": {
        "id": "iIJgowIZgyfQ"
      }
    },
    {
      "cell_type": "code",
      "source": [
        "!kits23_download_data\n"
      ],
      "metadata": {
        "colab": {
          "base_uri": "https://localhost:8080/"
        },
        "id": "2MMcTw1OhDs-",
        "outputId": "c33687e4-ffd9-433c-8b96-d98ffb752242"
      },
      "execution_count": null,
      "outputs": [
        {
          "output_type": "stream",
          "name": "stdout",
          "text": [
            "\n",
            "Found 489 cases to download\n",
            "\n",
            "Dowloading case_00588...: 100% 489/489 [10:35<00:00,  1.30s/it]\n"
          ]
        }
      ]
    },
    {
      "cell_type": "markdown",
      "source": [],
      "metadata": {
        "id": "hB4xYERUgNei"
      }
    },
    {
      "cell_type": "markdown",
      "source": [
        "#Cell 3: Inspecting the Download\n",
        "\n"
      ],
      "metadata": {
        "id": "393QxTasiRod"
      }
    },
    {
      "cell_type": "code",
      "source": [
        "import os\n",
        "\n",
        "# List top-level items\n",
        "print(\"Root:\", os.listdir())\n",
        "\n",
        "# List contents of kits23 directory\n",
        "if \"kits23\" in os.listdir():\n",
        "    print(\"kits23/:\", os.listdir(\"kits23\"))\n",
        "\n",
        "# List contents of dataset\n",
        "if os.path.exists(\"kits23/dataset\"):\n",
        "    print(\"kits23/dataset/:\", os.listdir(\"kits23/dataset\"))\n",
        "else:\n",
        "    print(\"⚠️ 'kits23/dataset/' not found.\")\n"
      ],
      "metadata": {
        "colab": {
          "base_uri": "https://localhost:8080/"
        },
        "id": "Dm4mNAKliWa7",
        "outputId": "88eafb19-6cbf-45c6-81e6-d84d3e91d482"
      },
      "execution_count": null,
      "outputs": [
        {
          "output_type": "stream",
          "name": "stdout",
          "text": [
            "Root: ['.config', 'kits23', 'sample_data']\n",
            "kits23/: ['changelog.md', 'setup.py', 'kits23.egg-info', 'tests', '.gitignore', 'dataset', 'README.md', '.git', '.pylintrc', 'kits23', 'LICENSE', 'pull_request_template.md']\n",
            "kits23/dataset/: ['case_00231', 'case_00414', 'case_00188', 'case_00220', 'case_00450', 'case_00536', 'case_00183', 'case_00459', 'case_00510', 'case_00468', 'case_00427', 'case_00024', 'case_00209', 'case_00079', 'case_00108', 'case_00235', 'case_00281', 'case_00537', 'case_00509', 'case_00565', 'case_00402', 'case_00009', 'case_00241', 'case_00517', 'case_00452', 'case_00438', 'case_00174', 'case_00269', 'case_00424', 'case_00018', 'case_00481', 'case_00027', 'case_00256', 'case_00226', 'case_00588', 'case_00017', 'case_00405', 'case_00037', 'case_00208', 'case_00245', 'case_00493', 'case_00515', 'case_00524', 'case_00011', 'case_00227', 'case_00292', 'case_00071', 'case_00409', 'case_00411', 'case_00469', 'case_00574', 'case_00423', 'case_00073', 'case_00440', 'case_00137', 'case_00033', 'case_00290', 'case_00505', 'case_00030', 'case_00562', 'case_00152', 'case_00531', 'case_00203', 'case_00196', 'case_00150', 'case_00545', 'case_00041', 'case_00105', 'case_00472', 'case_00216', 'case_00583', 'case_00048', 'case_00159', 'case_00261', 'case_00521', 'case_00092', 'case_00100', 'case_00149', 'case_00081', 'case_00286', 'case_00528', 'case_00443', 'case_00252', 'case_00086', 'case_00234', 'case_00173', 'case_00476', 'case_00285', 'case_00104', 'case_00249', 'case_00543', 'case_00560', 'case_00115', 'case_00572', 'case_00527', 'case_00061', 'case_00276', 'case_00133', 'case_00013', 'case_00418', 'case_00541', 'case_00239', 'case_00040', 'case_00101', 'case_00553', 'case_00499', 'case_00533', 'case_00132', 'case_00566', 'case_00504', 'case_00526', 'case_00175', 'case_00176', 'case_00077', 'case_00557', 'case_00068', 'case_00193', 'case_00529', 'case_00503', 'case_00045', 'case_00279', 'case_00488', 'case_00582', 'case_00253', 'case_00055', 'case_00177', 'case_00406', 'case_00043', 'case_00161', 'case_00124', 'case_00074', 'case_00498', 'case_00262', 'case_00416', 'case_00551', 'case_00569', 'case_00230', 'case_00404', 'case_00550', 'case_00232', 'case_00046', 'case_00516', 'case_00184', 'case_00280', 'case_00148', 'case_00217', 'case_00497', 'case_00146', 'case_00123', 'case_00111', 'case_00464', 'case_00492', 'case_00564', 'case_00466', 'case_00084', 'case_00451', 'case_00198', 'case_00567', 'case_00121', 'case_00088', 'case_00473', 'case_00458', 'case_00532', 'case_00028', 'case_00166', 'case_00038', 'case_00486', 'case_00171', 'case_00237', 'case_00447', 'case_00408', 'case_00097', 'case_00229', 'case_00157', 'case_00194', 'case_00069', 'case_00118', 'case_00554', 'case_00242', 'case_00546', 'case_00144', 'case_00454', 'case_00496', 'case_00254', 'case_00000', 'case_00277', 'case_00576', 'case_00199', 'case_00082', 'case_00407', 'case_00010', 'case_00182', 'case_00128', 'case_00059', 'case_00474', 'case_00489', 'case_00278', 'case_00207', 'case_00542', 'case_00420', 'case_00233', 'case_00522', 'case_00004', 'case_00530', 'case_00109', 'case_00095', 'case_00113', 'case_00260', 'kits23.json', 'case_00085', 'case_00051', 'case_00419', 'case_00490', 'case_00098', 'case_00412', 'case_00282', 'case_00248', 'case_00263', 'case_00222', 'case_00258', 'case_00122', 'case_00453', 'case_00042', 'case_00585', 'case_00003', 'case_00236', 'case_00138', 'case_00181', 'case_00094', 'case_00559', 'case_00019', 'case_00513', 'case_00267', 'case_00165', 'case_00246', 'case_00275', 'case_00142', 'case_00581', 'case_00244', 'case_00119', 'case_00067', 'case_00006', 'case_00145', 'case_00479', 'case_00434', 'case_00190', 'case_00228', 'case_00015', 'case_00179', 'case_00556', 'case_00107', 'case_00431', 'case_00401', 'case_00442', 'case_00426', 'case_00169', 'case_00126', 'case_00568', 'case_00500', 'case_00519', 'case_00482', 'case_00421', 'case_00129', 'case_00446', 'case_00445', 'case_00561', 'case_00456', 'case_00429', 'case_00160', 'case_00021', 'case_00117', 'case_00507', 'case_00102', 'case_00495', 'case_00034', 'case_00075', 'case_00170', 'case_00483', 'case_00053', 'case_00430', 'case_00439', 'case_00154', 'case_00555', 'case_00070', 'case_00508', 'case_00403', 'case_00090', 'case_00178', 'case_00032', 'case_00197', 'case_00525', 'case_00096', 'case_00136', 'case_00151', 'case_00072', 'case_00272', 'case_00035', 'case_00134', 'case_00467', 'case_00039', 'case_00240', 'case_00135', 'case_00005', 'case_00514', 'case_00224', 'case_00114', 'case_00062', 'case_00475', 'case_00087', 'case_00141', 'case_00432', 'case_00298', 'case_00140', 'case_00001', 'case_00023', 'case_00110', 'case_00214', 'case_00444', 'case_00274', 'case_00020', 'case_00049', 'case_00089', 'case_00477', 'case_00549', 'case_00547', 'case_00025', 'case_00078', 'case_00540', 'case_00457', 'case_00271', 'case_00264', 'case_00167', 'case_00266', 'case_00103', 'case_00221', 'case_00268', 'case_00501', 'case_00289', 'case_00299', 'case_00400', 'case_00063', 'case_00083', 'case_00168', 'case_00012', 'case_00213', 'case_00147', 'case_00076', 'case_00047', 'case_00291', 'case_00283', 'case_00131', 'case_00422', 'case_00002', 'case_00463', 'case_00091', 'case_00158', 'case_00206', 'case_00293', 'case_00064', 'case_00518', 'case_00437', 'case_00057', 'case_00460', 'case_00050', 'case_00185', 'case_00435', 'case_00580', 'case_00201', 'case_00192', 'case_00575', 'case_00449', 'case_00139', 'case_00270', 'case_00539', 'case_00164', 'case_00535', 'case_00202', 'case_00484', 'case_00485', 'case_00433', 'case_00538', 'case_00470', 'case_00205', 'case_00425', 'case_00223', 'case_00058', 'case_00511', 'case_00052', 'case_00056', 'case_00523', 'case_00552', 'case_00436', 'case_00143', 'case_00219', 'case_00204', 'case_00512', 'case_00548', 'case_00273', 'case_00296', 'case_00106', 'case_00200', 'case_00153', 'case_00570', 'case_00487', 'case_00080', 'case_00238', 'case_00163', 'case_00211', 'case_00584', 'case_00008', 'case_00577', 'case_00210', 'case_00428', 'case_00162', 'case_00415', 'case_00044', 'case_00480', 'case_00287', 'case_00065', 'case_00060', 'case_00441', 'case_00413', 'case_00465', 'case_00265', 'case_00187', 'case_00189', 'case_00494', 'case_00297', 'case_00066', 'case_00099', 'case_00295', 'case_00225', 'case_00180', 'case_00243', 'case_00578', 'case_00491', 'case_00215', 'case_00284', 'case_00294', 'case_00410', 'case_00191', 'case_00455', 'case_00172', 'case_00520', 'case_00016', 'case_00054', 'case_00120', 'case_00127', 'case_00587', 'case_00125', 'case_00251', 'case_00417', 'case_00461', 'case_00448', 'case_00471', 'case_00218', 'case_00036', 'case_00259', 'case_00022', 'case_00116', 'case_00155', 'case_00130', 'case_00506', 'case_00257', 'case_00558', 'case_00212', 'case_00502', 'case_00026', 'case_00031', 'case_00195', 'case_00007', 'case_00186', 'case_00573', 'case_00534', 'case_00014', 'case_00112', 'case_00462', 'case_00586', 'case_00156', 'case_00093', 'case_00247', 'case_00255', 'case_00571', 'case_00563', 'case_00579', 'case_00029', 'case_00478', 'case_00250', 'case_00544', 'case_00288']\n"
          ]
        }
      ]
    },
    {
      "cell_type": "markdown",
      "source": [
        "## Cell 4: Saving Image Slices from the 3D Data"
      ],
      "metadata": {
        "id": "rHn0O1MTi23N"
      }
    },
    {
      "cell_type": "markdown",
      "source": [
        "only slices with a normal kidney (1) without tumor or cyst will be considered normal. slices with tumor (2) or cyste (3) will be considered abnormal. slices with only background (0) will be eliminated and wont enter the dataset."
      ],
      "metadata": {
        "id": "PQ3_E8wCVgL2"
      }
    },
    {
      "cell_type": "code",
      "source": [
        "def save_slices(case_folder, output_dir):\n",
        "    import os\n",
        "    import io\n",
        "    import numpy as np\n",
        "    import nibabel as nib\n",
        "    from PIL import Image\n",
        "\n",
        "    # Paths to image and segmentation files\n",
        "    imaging_path = os.path.join(case_folder, \"imaging.nii.gz\")\n",
        "    seg_path = os.path.join(case_folder, \"segmentation.nii.gz\")\n",
        "\n",
        "    # Load the 3D scan and segmentation volumes\n",
        "    img = nib.load(imaging_path).get_fdata()\n",
        "    seg = nib.load(seg_path).get_fdata()\n",
        "\n",
        "    # Ensure output folders exist\n",
        "    os.makedirs(os.path.join(output_dir, \"normal\"), exist_ok=True)\n",
        "    os.makedirs(os.path.join(output_dir, \"abnormal\"), exist_ok=True)\n",
        "\n",
        "    for i in range(img.shape[2]):  # Loop over axial slices\n",
        "        slice_img = img[:, :, i]\n",
        "        slice_seg = seg[:, :, i]\n",
        "\n",
        "        # Updated classification logic\n",
        "        if np.any(slice_seg == 1) and not np.any((slice_seg == 2) | (slice_seg == 3)):\n",
        "            label = \"normal\"\n",
        "        elif np.any((slice_seg == 2) | (slice_seg == 3)):\n",
        "            label = \"abnormal\"\n",
        "        else:\n",
        "            continue  # Skip slices with only background\n",
        "\n",
        "        # Normalize the image slice to 0–255 for saving as PNG\n",
        "        slice_norm = 255 * (slice_img - np.min(slice_img)) / (np.ptp(slice_img) + 1e-5)\n",
        "        slice_norm = slice_norm.astype(np.uint8)\n",
        "\n",
        "        try:\n",
        "            # Convert to image format (PIL)\n",
        "            img_pil = Image.fromarray(slice_norm)\n",
        "\n",
        "            # Test in memory before saving\n",
        "            buf = io.BytesIO()\n",
        "            img_pil.save(buf, format=\"PNG\")\n",
        "            buf.seek(0)\n",
        "            test_img = Image.open(buf)\n",
        "            test_img.verify()  # Validate image\n",
        "\n",
        "            # Create filename and save to disk\n",
        "            filename = f\"{os.path.basename(case_folder)}_slice_{i:03d}.png\"\n",
        "            filepath = os.path.join(output_dir, label, filename)\n",
        "            img_pil.save(filepath)\n",
        "\n",
        "        except Exception as e:\n",
        "            print(f\"❌ Error saving slice {i} from {case_folder}: {e}\")\n",
        "\n"
      ],
      "metadata": {
        "id": "PuEiSiWWi6Ud"
      },
      "execution_count": null,
      "outputs": []
    },
    {
      "cell_type": "markdown",
      "source": [
        "#Cell 5: Saving Slices from All Cases"
      ],
      "metadata": {
        "id": "JCaFqs6voXY4"
      }
    },
    {
      "cell_type": "markdown",
      "source": [
        "Make sure DATASET_DIR and OUTPUT_DIR are clearly defined"
      ],
      "metadata": {
        "id": "MYyam-jFpNmk"
      }
    },
    {
      "cell_type": "code",
      "source": [
        "DATASET_DIR = \"kits23/dataset\"\n",
        "OUTPUT_DIR = \"slices_output1\"\n"
      ],
      "metadata": {
        "id": "Nc6AK9Sbo3M4"
      },
      "execution_count": null,
      "outputs": []
    },
    {
      "cell_type": "markdown",
      "source": [
        "This code Loops through all patient folders that start with \"case_\". Calls the save_slices() function we defined earlier."
      ],
      "metadata": {
        "id": "dQzB1WbKpXVJ"
      }
    },
    {
      "cell_type": "code",
      "source": [
        "from tqdm import tqdm\n",
        "import io  # Only needed if not imported earlier\n",
        "\n",
        "cases = sorted([\n",
        "    os.path.join(DATASET_DIR, c)\n",
        "    for c in os.listdir(DATASET_DIR)\n",
        "    if c.startswith(\"case_\")\n",
        "])\n",
        "\n",
        "print(\"Saving slices into normal / abnormal folders...\")\n",
        "for case_folder in tqdm(cases):\n",
        "    try:\n",
        "        save_slices(case_folder, OUTPUT_DIR)\n",
        "    except FileNotFoundError as e:\n",
        "        print(f\"⚠️ Skipping {case_folder}: File not found - {e}\")\n",
        "    except Exception as e:\n",
        "        print(f\"❌ Error saving slices from {case_folder}: {e}\")\n",
        "\n",
        "print(\"✅ Done saving slices.\")\n"
      ],
      "metadata": {
        "colab": {
          "base_uri": "https://localhost:8080/"
        },
        "id": "4pvAtDQ3o7KB",
        "outputId": "3fc0cc53-44ef-4f9e-c237-ad15c92dde3f"
      },
      "execution_count": null,
      "outputs": [
        {
          "output_type": "stream",
          "name": "stdout",
          "text": [
            "Saving slices into normal / abnormal folders...\n"
          ]
        },
        {
          "output_type": "stream",
          "name": "stderr",
          "text": [
            "100%|██████████| 489/489 [1:15:11<00:00,  9.23s/it]"
          ]
        },
        {
          "output_type": "stream",
          "name": "stdout",
          "text": [
            "✅ Done saving slices.\n"
          ]
        },
        {
          "output_type": "stream",
          "name": "stderr",
          "text": [
            "\n"
          ]
        }
      ]
    },
    {
      "cell_type": "markdown",
      "source": [
        "#Cell 6–7: Zip and Download Slices"
      ],
      "metadata": {
        "id": "LB9jPUlVpvel"
      }
    },
    {
      "cell_type": "markdown",
      "source": [
        " Compresses the entire output folder into a zip file"
      ],
      "metadata": {
        "id": "MZFu9-szsJHL"
      }
    },
    {
      "cell_type": "code",
      "source": [
        "import shutil\n",
        "\n",
        "shutil.make_archive(\"slices_output1\", \"zip\", OUTPUT_DIR)\n"
      ],
      "metadata": {
        "id": "AJFEYjqwsNYW",
        "colab": {
          "base_uri": "https://localhost:8080/",
          "height": 36
        },
        "outputId": "95023ff3-93af-410f-d856-1a7033c3180d"
      },
      "execution_count": null,
      "outputs": [
        {
          "output_type": "execute_result",
          "data": {
            "text/plain": [
              "'/content/slices_output.zip'"
            ],
            "application/vnd.google.colaboratory.intrinsic+json": {
              "type": "string"
            }
          },
          "metadata": {},
          "execution_count": 7
        }
      ]
    },
    {
      "cell_type": "markdown",
      "source": [
        "Enables downloading the zip to your local machine (Google Colab only)"
      ],
      "metadata": {
        "id": "nqgK4d0BsORr"
      }
    },
    {
      "cell_type": "code",
      "source": [
        "from google.colab import files\n",
        "files.download('slices_output1.zip')\n"
      ],
      "metadata": {
        "id": "eYydYSsPsRM3",
        "colab": {
          "base_uri": "https://localhost:8080/",
          "height": 34
        },
        "outputId": "ef189e27-27d7-46d0-d179-89eb77af9712"
      },
      "execution_count": null,
      "outputs": [
        {
          "output_type": "display_data",
          "data": {
            "text/plain": [
              "<IPython.core.display.Javascript object>"
            ],
            "application/javascript": [
              "\n",
              "    async function download(id, filename, size) {\n",
              "      if (!google.colab.kernel.accessAllowed) {\n",
              "        return;\n",
              "      }\n",
              "      const div = document.createElement('div');\n",
              "      const label = document.createElement('label');\n",
              "      label.textContent = `Downloading \"${filename}\": `;\n",
              "      div.appendChild(label);\n",
              "      const progress = document.createElement('progress');\n",
              "      progress.max = size;\n",
              "      div.appendChild(progress);\n",
              "      document.body.appendChild(div);\n",
              "\n",
              "      const buffers = [];\n",
              "      let downloaded = 0;\n",
              "\n",
              "      const channel = await google.colab.kernel.comms.open(id);\n",
              "      // Send a message to notify the kernel that we're ready.\n",
              "      channel.send({})\n",
              "\n",
              "      for await (const message of channel.messages) {\n",
              "        // Send a message to notify the kernel that we're ready.\n",
              "        channel.send({})\n",
              "        if (message.buffers) {\n",
              "          for (const buffer of message.buffers) {\n",
              "            buffers.push(buffer);\n",
              "            downloaded += buffer.byteLength;\n",
              "            progress.value = downloaded;\n",
              "          }\n",
              "        }\n",
              "      }\n",
              "      const blob = new Blob(buffers, {type: 'application/binary'});\n",
              "      const a = document.createElement('a');\n",
              "      a.href = window.URL.createObjectURL(blob);\n",
              "      a.download = filename;\n",
              "      div.appendChild(a);\n",
              "      a.click();\n",
              "      div.remove();\n",
              "    }\n",
              "  "
            ]
          },
          "metadata": {}
        },
        {
          "output_type": "display_data",
          "data": {
            "text/plain": [
              "<IPython.core.display.Javascript object>"
            ],
            "application/javascript": [
              "download(\"download_9bd91cf5-20fd-45d5-b59f-e72004945a00\", \"slices_output.zip\", 3845728567)"
            ]
          },
          "metadata": {}
        }
      ]
    },
    {
      "cell_type": "markdown",
      "source": [
        "#Cell 8: Count Number of Images"
      ],
      "metadata": {
        "id": "xhEY2F5gsUB4"
      }
    },
    {
      "cell_type": "markdown",
      "source": [
        "Simple summary of how many \"normal\" and \"abnormal\" slices were saved."
      ],
      "metadata": {
        "id": "DFsn9FFFsaHa"
      }
    },
    {
      "cell_type": "code",
      "source": [
        "normal_count = len(os.listdir(os.path.join(OUTPUT_DIR, \"normal\")))\n",
        "abnormal_count = len(os.listdir(os.path.join(OUTPUT_DIR, \"abnormal\")))\n",
        "\n",
        "print(f\"✅ Total slices saved:\")\n",
        "print(f\"Normal: {normal_count}\")\n",
        "print(f\"Abnormal: {abnormal_count}\")\n"
      ],
      "metadata": {
        "id": "6utdoR-KsXf-",
        "colab": {
          "base_uri": "https://localhost:8080/"
        },
        "outputId": "17676d46-2fdd-48f2-99be-6f063ff4a750"
      },
      "execution_count": null,
      "outputs": [
        {
          "output_type": "stream",
          "name": "stdout",
          "text": [
            "✅ Total slices saved:\n",
            "Normal: 54819\n",
            "Abnormal: 41703\n"
          ]
        }
      ]
    }
  ]
}